{
 "cells": [
  {
   "cell_type": "markdown",
   "id": "b6605e9f",
   "metadata": {},
   "source": [
    "Practical Statistics for Data Science - Chapter 1"
   ]
  },
  {
   "cell_type": "markdown",
   "id": "01357b59",
   "metadata": {},
   "source": [
    "## chapeter 1"
   ]
  },
  {
   "cell_type": "markdown",
   "id": "b5b778d3",
   "metadata": {},
   "source": [
    "####  A major challenge of data sciencew is to harness this torrebt of raw data into actionable information."
   ]
  },
  {
   "cell_type": "markdown",
   "id": "7f4bed22",
   "metadata": {},
   "source": [
    "#### 2 basic types of structured data: numeric (contunuous or discrete) & categorical (binary or orinal)\n",
    "- R or Python use these data types to improve computational perfprmance. \n",
    "- data type dertermines how software will handle computationa for that variables."
   ]
  },
  {
   "cell_type": "markdown",
   "id": "a54e363f",
   "metadata": {},
   "source": [
    "#### Example: location estimates of population and murder rates"
   ]
  },
  {
   "cell_type": "code",
   "execution_count": 31,
   "id": "0ee08515",
   "metadata": {},
   "outputs": [],
   "source": [
    "import pandas as pd\n",
    "\n",
    "import numpy as np\n",
    "from scipy.stats import trim_mean\n",
    "\n",
    "## pip install wquantiles\n",
    "import wquantiles"
   ]
  },
  {
   "cell_type": "code",
   "execution_count": 19,
   "id": "e9503f92",
   "metadata": {},
   "outputs": [
    {
     "data": {
      "text/plain": [
       "6162876.3"
      ]
     },
     "execution_count": 19,
     "metadata": {},
     "output_type": "execute_result"
    }
   ],
   "source": [
    "state = pd.read_csv('Data/state.csv')\n",
    "state['Population'].mean()"
   ]
  },
  {
   "cell_type": "code",
   "execution_count": 20,
   "id": "12ecc8c7",
   "metadata": {},
   "outputs": [
    {
     "data": {
      "text/plain": [
       "4783697.125"
      ]
     },
     "execution_count": 20,
     "metadata": {},
     "output_type": "execute_result"
    }
   ],
   "source": [
    "## trim the upper and lower 10% of the data and calculate the mean\n",
    "trim_mean(state['Population'], 0.1)"
   ]
  },
  {
   "cell_type": "code",
   "execution_count": 21,
   "id": "20c84913",
   "metadata": {},
   "outputs": [
    {
     "data": {
      "text/plain": [
       "6162876.3"
      ]
     },
     "execution_count": 21,
     "metadata": {},
     "output_type": "execute_result"
    }
   ],
   "source": [
    "state['Population'].mean()"
   ]
  },
  {
   "cell_type": "code",
   "execution_count": 23,
   "id": "8ed45603",
   "metadata": {},
   "outputs": [
    {
     "data": {
      "text/plain": [
       "4.445833981123393"
      ]
     },
     "execution_count": 23,
     "metadata": {},
     "output_type": "execute_result"
    }
   ],
   "source": [
    "##weighted mean is available with Numpy\n",
    "np.average(state['Murder.Rate'], weights = state['Population'])"
   ]
  },
  {
   "cell_type": "code",
   "execution_count": 32,
   "id": "446f10d8",
   "metadata": {},
   "outputs": [
    {
     "data": {
      "text/plain": [
       "4.4"
      ]
     },
     "execution_count": 32,
     "metadata": {},
     "output_type": "execute_result"
    }
   ],
   "source": [
    "##weighted median: use package wquantile\n",
    "wquantiles.median(state['Murder.Rate'],weights = state['Population'])"
   ]
  },
  {
   "cell_type": "code",
   "execution_count": null,
   "id": "0a2a1a1d",
   "metadata": {},
   "outputs": [],
   "source": []
  }
 ],
 "metadata": {
  "kernelspec": {
   "display_name": "Python 3 (ipykernel)",
   "language": "python",
   "name": "python3"
  },
  "language_info": {
   "codemirror_mode": {
    "name": "ipython",
    "version": 3
   },
   "file_extension": ".py",
   "mimetype": "text/x-python",
   "name": "python",
   "nbconvert_exporter": "python",
   "pygments_lexer": "ipython3",
   "version": "3.10.9"
  }
 },
 "nbformat": 4,
 "nbformat_minor": 5
}
